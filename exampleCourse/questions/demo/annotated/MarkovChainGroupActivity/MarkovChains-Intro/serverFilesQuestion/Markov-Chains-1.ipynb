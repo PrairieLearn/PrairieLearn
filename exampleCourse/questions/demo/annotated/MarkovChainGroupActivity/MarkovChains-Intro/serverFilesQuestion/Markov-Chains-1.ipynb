{
 "cells": [
  {
   "cell_type": "code",
   "execution_count": 2,
   "metadata": {},
   "outputs": [],
   "source": [
    "import numpy as np\n",
    "import numpy.linalg as la\n",
    "import matplotlib.pyplot as plt"
   ]
  },
  {
   "cell_type": "markdown",
   "metadata": {},
   "source": [
    "# Introduction to Markov Chains"
   ]
  },
  {
   "cell_type": "markdown",
   "metadata": {},
   "source": [
    "A Markov chain is a mathematical model used to describe a set of states and the probability of transitioning between them. In this simple example, we use Markov chain to model the weather. We have two states to represent the possible weather for a day: Sunny and Snowy. After collecting weather data for many years, you observed that the chance of a snowy day occurring after one snowy day is 90% and that the chance of a snowy day after one sunny day is 70%.\n",
    "\n",
    "We can see this visually with the following graph. Do you understand how we were able to obtain the other numbers? Recall that we are dealing with probabilities that should sum up to 100%.\n",
    "\n",
    "<img src=\"weather_graph.png\" width=446px></img>\n",
    "\n",
    "This is a *directed graph* because *edges have direction*. We can represent this (unsurprisingly) using a matrix, similarly to how we created the adjacency matrix, using the following notation: the columns of the matrix represent outgoing edges, while the rows represent incoming edges:\n",
    "\n",
    "<img src=\"weather_matrix.png\" width=305px></img>\n",
    "\n",
    "hence each entry of the matrix is given by:\n",
    "\n",
    "$$ M_{ij} = \\text{probability of moving from } j \\text{ to } i $$\n",
    "\n",
    "The matrix above is called the **Markov matrix**, which has the following properties:\n",
    "\n",
    "- $M_{ij}$ entry of a transition matrix has the probability of transitioning from state $j$ to state $i$\n",
    "\n",
    "- Since the entries are probabilities, they are always non-negative real numbers, and the columns should sum to 1.\n",
    "\n",
    "**Try this!**\n",
    "\n",
    "Write the matrix above as a 2d numpy array. Define it as the variable `M`."
   ]
  },
  {
   "cell_type": "code",
   "execution_count": 8,
   "metadata": {},
   "outputs": [],
   "source": [
    "#clear\n",
    "M = np.array([[0.3, 0.1], [0.7, 0.9]])"
   ]
  },
  {
   "cell_type": "markdown",
   "metadata": {},
   "source": [
    "Now that we have created the model, we can use it to calculate various probabilities. Let's say that today was a sunny day, which we can represent by a vector that is 100% sunny and 0% snowy.\n",
    "\n",
    "**Try this!**\n",
    "\n",
    "Write this initial vector as a 1d numpy array, where the first entry corresponds to Sunny and the second entry corresponds to Snowy. Recal that the sum of the states should be equal to 1. Define it as the variable `x`."
   ]
  },
  {
   "cell_type": "code",
   "execution_count": 4,
   "metadata": {},
   "outputs": [],
   "source": [
    "#clear\n",
    "x = np.array([1.0, 0.0])"
   ]
  },
  {
   "cell_type": "markdown",
   "metadata": {},
   "source": [
    "If we multiply our transition matrix by our state vector, we can find the probability of having each type of day tomorrow:"
   ]
  },
  {
   "cell_type": "code",
   "execution_count": 5,
   "metadata": {},
   "outputs": [
    {
     "data": {
      "text/plain": [
       "array([0.3, 0.7])"
      ]
     },
     "execution_count": 5,
     "metadata": {},
     "output_type": "execute_result"
    }
   ],
   "source": [
    "x1 = M @ x\n",
    "x1"
   ]
  },
  {
   "cell_type": "markdown",
   "metadata": {},
   "source": [
    "This doesn't give us any new information, so lets see what happens when we multiply the state vector again:"
   ]
  },
  {
   "cell_type": "code",
   "execution_count": 6,
   "metadata": {},
   "outputs": [
    {
     "data": {
      "text/plain": [
       "array([0.16, 0.84])"
      ]
     },
     "execution_count": 6,
     "metadata": {},
     "output_type": "execute_result"
    }
   ],
   "source": [
    "x2 = M @ x1\n",
    "x2"
   ]
  },
  {
   "cell_type": "markdown",
   "metadata": {},
   "source": [
    "Now, we have \"simulated\" the Markov chain twice, which tells us the weather probability in _two_ days.  What would happen if we multiplied our new vector by the matrix a large number of times?\n",
    "\n",
    "**Try this!**\n",
    "\n",
    "Write a loop to left-multiply (${\\bf Mx}$) the state vector $15$ times, printing out each intermediate value. Start your iterations using the state vector defined above as `x`."
   ]
  },
  {
   "cell_type": "code",
   "execution_count": 7,
   "metadata": {},
   "outputs": [
    {
     "name": "stdout",
     "output_type": "stream",
     "text": [
      "[0.3 0.7]\n",
      "[0.16 0.84]\n",
      "[0.132 0.868]\n",
      "[0.1264 0.8736]\n",
      "[0.12528 0.87472]\n",
      "[0.125056 0.874944]\n",
      "[0.1250112 0.8749888]\n",
      "[0.12500224 0.87499776]\n",
      "[0.12500045 0.87499955]\n",
      "[0.12500009 0.87499991]\n",
      "[0.12500002 0.87499998]\n",
      "[0.125 0.875]\n",
      "[0.125 0.875]\n",
      "[0.125 0.875]\n",
      "[0.125 0.875]\n"
     ]
    }
   ],
   "source": [
    "xc = x.copy()\n",
    "# Write loop here\n",
    "#clear\n",
    "for i in range(15):\n",
    "    xc = M @ xc\n",
    "    print(xc)"
   ]
  },
  {
   "cell_type": "markdown",
   "metadata": {},
   "source": [
    "You can see that for enough iterations we will eventually converge to a steady state ${\\bf x}^* $, and multiplying this steady state by the Markov matrix will no longer modify the vector, i.e.\n",
    "\n",
    "$$ {\\bf M}{\\bf x}^* = {\\bf x}^* $$\n",
    "\n",
    "Note that this is an eigensystem problem, where $(1,{\\bf x}^*)$ is an eigenpair. Indeed, we  found the eigenvector of ${\\bf M}$ with corresponding eigenvalue $\\lambda = 1$!"
   ]
  },
  {
   "cell_type": "markdown",
   "metadata": {},
   "source": [
    "Computing the eigenvector like this is called the [*Power Iteration method*](https://en.wikipedia.org/wiki/Power_iteration), and can be used to find the eigenvector that corresponds to the *dominant* eigenvalue (largest eigenvalue in magnitude).\n",
    "\n",
    "**Check your answers!**\n",
    "\n",
    "Implement the function `power_iteration()` that takes a matrix `M` and starting vector `x`, and computes the eigenvector corresponding to dominant eigenvalue (same as you have done above).\n",
    "\n",
    "For simplicity, use $100$ iterations for your loop."
   ]
  },
  {
   "cell_type": "code",
   "execution_count": 9,
   "metadata": {},
   "outputs": [],
   "source": [
    "#grade_clear\n",
    "#clear\n",
    "def power_iteration(M, x):\n",
    "    # Perform power iteration and return steady state vector xstar\n",
    "    xc = x.copy()\n",
    "    #clear\n",
    "    for i in range(100):\n",
    "        xc = M @ xc\n",
    "    #clear\n",
    "    return xc"
   ]
  },
  {
   "cell_type": "markdown",
   "metadata": {},
   "source": [
    "Run your `power_iteration()` function on `M` and a new vector,\n",
    "$$ {\\bf x} = \\begin{bmatrix} 0.5 \\\\ 0.5\\end{bmatrix} $$\n",
    "\n",
    "Do you get the same result as before?"
   ]
  },
  {
   "cell_type": "code",
   "execution_count": 10,
   "metadata": {},
   "outputs": [
    {
     "data": {
      "text/plain": [
       "array([0.125, 0.875])"
      ]
     },
     "execution_count": 10,
     "metadata": {},
     "output_type": "execute_result"
    }
   ],
   "source": [
    "power_iteration(M, np.array([0.5, 0.5]))"
   ]
  },
  {
   "cell_type": "markdown",
   "metadata": {},
   "source": [
    "As long as the starting state vector `x` is normalized (the entries add up to one), the steady state solution will be the same. There is one caveat to this statement, which we will discuss in the next section.\n",
    "\n",
    "Take a look at the code snippet below. Notice that the steady state solution does not change, regardless of the initial vector (here generated at random)."
   ]
  },
  {
   "cell_type": "code",
   "execution_count": 16,
   "metadata": {},
   "outputs": [
    {
     "name": "stdout",
     "output_type": "stream",
     "text": [
      "[0.28563721 0.71436279]\n",
      "[0.125 0.875]\n"
     ]
    }
   ],
   "source": [
    "# run this as many times as you want, the bottom vector should always stay the same!\n",
    "random_vector = np.random.rand(2)\n",
    "random_vector /= np.sum(random_vector) # normalize\n",
    "\n",
    "print(random_vector)\n",
    "print(power_iteration(M, random_vector))"
   ]
  }
 ],
 "metadata": {
  "kernelspec": {
   "display_name": "Python 3",
   "language": "python",
   "name": "python3"
  },
  "language_info": {
   "codemirror_mode": {
    "name": "ipython",
    "version": 3
   },
   "file_extension": ".py",
   "mimetype": "text/x-python",
   "name": "python",
   "nbconvert_exporter": "python",
   "pygments_lexer": "ipython3",
   "version": "3.8.0"
  }
 },
 "nbformat": 4,
 "nbformat_minor": 4
}
