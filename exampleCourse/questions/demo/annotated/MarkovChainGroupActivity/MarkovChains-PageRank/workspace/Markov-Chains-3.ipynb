{
  "cells": [
    {
      "cell_type": "code",
      "execution_count": 3,
      "metadata": {},
      "outputs": [],
      "source": [
        "import numpy as np\n",
        "import numpy.linalg as la\n",
        "import graph\n",
        "import matplotlib.pyplot as plt\n",
        "import helper_function as hf"
      ]
    },
    {
      "cell_type": "markdown",
      "metadata": {},
      "source": [
        "# Google PageRank"
      ]
    },
    {
      "cell_type": "markdown",
      "metadata": {},
      "source": [
        "Google's dominance as a search engine came from their [_PageRank_](http://ilpubs.stanford.edu:8090/422/1/1999-66.pdf) algorithm, named after co-founder Larry Page.  By assigning each page a relative rank, web searches can give more relevant results. The idea here is to model a user surfing different web pages by randomly clicking on links.  Pages with more incoming links (they are cited more often) are presumed to be higher quality and therefore get a higher PageRank value. We can model this as a graph, where each webpage has a chance of moving to another one:\n",
        "\n",
        "<img src=\"PageRank Example.svg\" width=\"300px\"></img>\n",
        "\n",
        "This probability of moving from one page to another is estimated from the number of outgoing links, more formally the probability of moving from page $j$ to page $i$ is given by:\n",
        "\n",
        "$$ p\\left(i \\vert j\\right) = \\frac{\\text{number of links from }j\\text{ to }i}{\\text{total links going out of } j}$$"
      ]
    },
    {
      "cell_type": "markdown",
      "metadata": {},
      "source": [
        "For example, if Google has 4 outgoing links:\n",
        "\n",
        " - 1 to Twitter\n",
        " - 1 to Reddit\n",
        " - 2 to Facebook\n",
        "\n",
        "Then it would have a $0\\%$ probability of linking to itself, $25\\%$ to Twitter, $25\\%$ to Reddit, and $50\\%$ to Facebook."
      ]
    },
    {
      "cell_type": "markdown",
      "metadata": {},
      "source": [
        "Let's first start with a small example. You are given an adjacency matrix ${\\bf A}$ such that each entry $A_{ij}$ contains the number of links going *into* page $i$ *from* $j$."
      ]
    },
    {
      "cell_type": "code",
      "execution_count": 4,
      "metadata": {},
      "outputs": [],
      "source": [
        "A = np.array([[0,  2,  0,  5],\n",
        "              [1,  0,  5,  6],\n",
        "              [2,  4,  0,  3],\n",
        "              [1,  0, 10,  2]])\n",
        "\n",
        "labels = ['Google', 'Twitter', 'Facebook', 'Reddit']\n",
        "\n",
        "graph.draw_matrix(A, labels)"
      ]
    },
    {
      "cell_type": "markdown",
      "metadata": {},
      "source": [
        "**Check your answers!**\n",
        "\n",
        "First, convert this to a Markov matrix `M2` by converting each entry to a probability. Recall you can retrieve the column of a NumPy matrix with the syntax `A[:,i]`. "
      ]
    },
    {
      "cell_type": "code",
      "execution_count": 5,
      "metadata": {},
      "outputs": [],
      "source": [
        "#grade (enter your code in this cell - DO NOT DELETE THIS LINE) \n",
        "n = len(A)\n",
        "M2 = np.zeros((n, n))\n",
        "# Convert entries in M2 below\n"
      ]
    },
    {
      "cell_type": "markdown",
      "metadata": {},
      "source": [
        "**Try this!**\n",
        "\n",
        "Now, use power iteration as you have done before to find the steady-state of the Markov matrix. You can use any starting vector you like, as long as it is normalized. This steady-state is the relative PageRank of each webpage. Store your result in `eigvec`."
      ]
    },
    {
      "cell_type": "code",
      "execution_count": 7,
      "metadata": {
        "scrolled": true
      },
      "outputs": [],
      "source": []
    },
    {
      "cell_type": "markdown",
      "metadata": {},
      "source": [
        "Now you can print it out:"
      ]
    },
    {
      "cell_type": "code",
      "execution_count": 8,
      "metadata": {},
      "outputs": [],
      "source": [
        "print(eigvec)"
      ]
    },
    {
      "cell_type": "markdown",
      "metadata": {},
      "source": [
        "What is the highest ranking site here?  You can use `labels` to get a name from a node index."
      ]
    },
    {
      "cell_type": "code",
      "execution_count": 9,
      "metadata": {},
      "outputs": [],
      "source": [
        "print(labels[np.argmax(eigvec)])"
      ]
    },
    {
      "cell_type": "markdown",
      "metadata": {},
      "source": [
        "## Larger Example"
      ]
    },
    {
      "cell_type": "markdown",
      "metadata": {},
      "source": [
        "Lets try a larger example with more websites.  We will have a slightly different format to represent our links."
      ]
    },
    {
      "cell_type": "code",
      "execution_count": 11,
      "metadata": {},
      "outputs": [],
      "source": [
        "num_pages = 20\n",
        "\n",
        "# Array with the edges\n",
        "edges = np.loadtxt(\"pagerank_large.txt\").astype(np.int64)\n",
        "\n",
        "# these are random, don't look too deeply into this...\n",
        "labels = ['Google', 'Twitter', 'Facebook', 'Reddit', 'WordPress', 'ArXiv', 'Amazon', 'UIUC', 'Wikipedia', 'IMDb',\n",
        "          'GitHub', 'Yahoo!', 'Flickr', 'Apple', 'Baidu', 'VKontakte', 'Mozilla', 'LinkedIn', 'YouTube', 'NASA']\n"
      ]
    },
    {
      "cell_type": "markdown",
      "metadata": {},
      "source": [
        "The link information is given in the `edges` 2d numpy array, that has shape `(total number of links, 2)`"
      ]
    },
    {
      "cell_type": "code",
      "execution_count": 12,
      "metadata": {},
      "outputs": [],
      "source": [
        "edges.shape"
      ]
    },
    {
      "cell_type": "markdown",
      "metadata": {},
      "source": [
        "Each row of `edges` has two entries, `[a,b]`, representing an edge (outgoing link) from website with index `a` to website with index `b`.\n",
        "\n",
        "For example, if the row is `[1, 8]`, then there is an edge/link going out of node `1` into node `8`.\n",
        "\n",
        "From the `edges` array, first create the adjacency matrix such that ${\\bf A}_{i,j}$ is equal to $1$ if webpage $i$ can be reached from webpage $j$, and $0$ otherwise.  You can assume that there are $n=20$ websites in total, and thus you will have a $20\\times 20$ adjacency matrix."
      ]
    },
    {
      "cell_type": "code",
      "execution_count": 13,
      "metadata": {},
      "outputs": [],
      "source": [
        "A2 = np.zeros((num_pages, num_pages))\n",
        "for edge in edges:\n",
        "    A2[edge[1], edge[0]] = 1\n",
        "A2"
      ]
    },
    {
      "cell_type": "markdown",
      "metadata": {},
      "source": [
        "We can draw the adjacency matrix for a visual depiction of what is going on:"
      ]
    },
    {
      "cell_type": "code",
      "execution_count": 14,
      "metadata": {},
      "outputs": [],
      "source": [
        "graph.draw_matrix(A2.T, labels, show_weights=False)"
      ]
    },
    {
      "cell_type": "markdown",
      "metadata": {},
      "source": [
        "**Try this!**\n",
        "\n",
        "Now, create the Markov matrix  ${\\bf M}$ from the adjacency matrix as you have done before.  Recall that in order to satisfy the Markov property that the column sum is equal to 1, we need to normalize columns by dividing its values by the column sum."
      ]
    },
    {
      "cell_type": "code",
      "execution_count": 15,
      "metadata": {},
      "outputs": [],
      "source": [
        "M = A2 / la.norm(A2, 1, axis=0)\n",
        "M"
      ]
    },
    {
      "cell_type": "markdown",
      "metadata": {},
      "source": [
        "What do you observe? Looks like you may have tried to compute divisions by zero!\n",
        "\n",
        "**What happens when there is no outgoing link from a website?**\n",
        "\n",
        "The column corresponding to that website will only have zero entries, and if we apply the above normalization, we will have a division by zero.\n",
        "\n",
        "How would you instead model the behavior of a web-surfer that is browsing a website without outgoing links?\n",
        "\n",
        "**Discuss this with your group.** Come up with ideas first, before continuing with the rest of the notebook."
      ]
    },
    {
      "cell_type": "markdown",
      "metadata": {},
      "source": [
        "**The PageRank algorithm proposes the following:**\n",
        "once the web surfer reaches a page without outgoing links, we can assume that he will probably not stay on that webpage forever. Instead it assumes that the web surfer will move to any of the webpages with equal probability $1/n$, where $n$ (defined as `num_pages`) is the number of pages.\n",
        "\n",
        "**Check your answers!**\n",
        "\n",
        "Using the matrix adjacency matrix ${\\bf A}_2$, construct the Markov matrix ${\\bf M}_3$ following this proposed model and store your result in variable `M3`."
      ]
    },
    {
      "cell_type": "code",
      "execution_count": 16,
      "metadata": {},
      "outputs": [],
      "source": [
        "#grade (enter your code in this cell - DO NOT DELETE THIS LINE) \n",
        "M3 = A2.copy()\n"
      ]
    },
    {
      "cell_type": "markdown",
      "metadata": {},
      "source": [
        "**Try this!**\n",
        "\n",
        "Use your defined function `power_iteration` to find the PageRank steady-state vector and save this as `pr`."
      ]
    },
    {
      "cell_type": "code",
      "execution_count": 18,
      "metadata": {},
      "outputs": [],
      "source": []
    },
    {
      "cell_type": "markdown",
      "metadata": {},
      "source": [
        "You can see the ranking of all the websites using the PageRank algorithm:"
      ]
    },
    {
      "cell_type": "code",
      "execution_count": 19,
      "metadata": {
        "scrolled": true
      },
      "outputs": [],
      "source": [
        "names = np.array(labels)\n",
        "names[np.argsort(pr)[::-1]]"
      ]
    },
    {
      "cell_type": "code",
      "execution_count": null,
      "metadata": {},
      "outputs": [],
      "source": []
    }
  ],
  "metadata": {
    "kernelspec": {
      "display_name": "Python 3",
      "language": "python",
      "name": "python3"
    },
    "language_info": {
      "codemirror_mode": {
        "name": "ipython",
        "version": 3
      },
      "file_extension": ".py",
      "mimetype": "text/x-python",
      "name": "python",
      "nbconvert_exporter": "python",
      "pygments_lexer": "ipython3",
      "version": "3.8.0"
    }
  },
  "nbformat": 4,
  "nbformat_minor": 4
}