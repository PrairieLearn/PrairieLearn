{
  "cells": [
    {
      "cell_type": "code",
      "execution_count": 1,
      "metadata": {},
      "outputs": [],
      "source": [
        "import numpy as np\n",
        "import numpy.linalg as la\n",
        "import graph\n",
        "import helper_function as hf\n",
        "import matplotlib.pyplot as plt"
      ]
    },
    {
      "cell_type": "markdown",
      "metadata": {},
      "source": [
        "# The Gambler's Ruin and Reducibility"
      ]
    },
    {
      "cell_type": "markdown",
      "metadata": {},
      "source": [
        "Consider a gambler starting with some amount of money, say $\\$1$.\n",
        "\n",
        "The gambler is playing a game where they could either win $\\$1$ or lose $\\$1$ with equal probability.  The goal is to win $\\$3$ before losing all of his money, in which case they lose the game as well."
      ]
    },
    {
      "cell_type": "markdown",
      "metadata": {},
      "source": [
        "We can represent this as a state graph (see below).  If we start at the $\\$1$ state, we have a $50\\%$ chance of losing money (and the game) &mdash; the \"$\\$0$ (Lose)\" state &mdash; and a $50\\%$ chance of winning a dollar &mdash; the \"$\\$2$\" state."
      ]
    },
    {
      "cell_type": "markdown",
      "metadata": {},
      "source": [
        "<img src=\"Gambler.svg\"></img>"
      ]
    },
    {
      "cell_type": "markdown",
      "metadata": {},
      "source": [
        "**Check your answers!**\n",
        "\n",
        "Create the Markov matrix, denoted `G`, that follows the state diagram above."
      ]
    },
    {
      "cell_type": "code",
      "execution_count": 2,
      "metadata": {},
      "outputs": [],
      "source": [
        "#grade (enter your code in this cell - DO NOT DELETE THIS LINE) \n"
      ]
    },
    {
      "cell_type": "markdown",
      "metadata": {},
      "source": [
        "You can display your matrix as a graph to check your work."
      ]
    },
    {
      "cell_type": "code",
      "execution_count": 3,
      "metadata": {},
      "outputs": [],
      "source": [
        "labels = ['Lose', '$1', '$2', '$3 (Win)']\n",
        "graph.draw_matrix(G, labels)"
      ]
    },
    {
      "cell_type": "markdown",
      "metadata": {},
      "source": [
        "Suppose the gambler starts with $\\$1$ ($100\\%$ probability of being in the $\\$1$ state). Write the initial state as the array `x0`:"
      ]
    },
    {
      "cell_type": "code",
      "execution_count": 4,
      "metadata": {},
      "outputs": [],
      "source": [
        "x0 = np.array([0.0, 1.0, 0.0, 0.0])"
      ]
    },
    {
      "cell_type": "markdown",
      "metadata": {},
      "source": [
        "We will use the function `power_iteration` that you defined previously (and now available to you as a helper function) to get the probability of losing and winning using the initial state defined as `x0` and store your result in `xstar1`"
      ]
    },
    {
      "cell_type": "code",
      "execution_count": 5,
      "metadata": {},
      "outputs": [],
      "source": [
        "# define xstar1\n",
        "\n",
        "# Print out the probability\n",
        "print(np.round(xstar1 * 100,2))"
      ]
    },
    {
      "cell_type": "markdown",
      "metadata": {},
      "source": [
        "**Check your answers!**\n",
        "\n",
        "Now use power iteration to get the probability of winning and losing if the gambler starts with $\\$2$ instead. Store your result in `xstar2`."
      ]
    },
    {
      "cell_type": "code",
      "execution_count": 6,
      "metadata": {},
      "outputs": [],
      "source": [
        "#grade (enter your code in this cell - DO NOT DELETE THIS LINE) \n"
      ]
    },
    {
      "cell_type": "markdown",
      "metadata": {},
      "source": [
        "Print out `xstar2`. Is this result different from `xstar1`?"
      ]
    },
    {
      "cell_type": "code",
      "execution_count": 7,
      "metadata": {},
      "outputs": [],
      "source": [
        "print(np.round(xstar2 * 100, 2))"
      ]
    },
    {
      "cell_type": "markdown",
      "metadata": {},
      "source": [
        "Because we can no longer reach every state from every other state, **we no longer have a unique steady state**.  A Markov chain of this type is said to be \"reducible\".\n",
        "\n",
        "The code snippet below runs power iteration for a random initial state vector. Run it many times, and see what happens to the resulting vector:"
      ]
    },
    {
      "cell_type": "code",
      "execution_count": 8,
      "metadata": {},
      "outputs": [],
      "source": [
        "x = np.random.rand(4)\n",
        "x = x / la.norm(x,1)\n",
        "print(np.round(hf.power_iteration(G, x),2))"
      ]
    },
    {
      "cell_type": "markdown",
      "metadata": {},
      "source": [
        "We can no longer observe the behavior in which the steady state vector is the same, no matter the given initial vector.\n"
      ]
    }
  ],
  "metadata": {
    "kernelspec": {
      "display_name": "Python 3",
      "language": "python",
      "name": "python3"
    },
    "language_info": {
      "codemirror_mode": {
        "name": "ipython",
        "version": 3
      },
      "file_extension": ".py",
      "mimetype": "text/x-python",
      "name": "python",
      "nbconvert_exporter": "python",
      "pygments_lexer": "ipython3",
      "version": "3.8.0"
    }
  },
  "nbformat": 4,
  "nbformat_minor": 4
}