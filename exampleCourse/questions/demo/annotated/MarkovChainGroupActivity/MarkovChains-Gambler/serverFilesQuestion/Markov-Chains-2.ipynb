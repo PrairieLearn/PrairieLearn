{
 "cells": [
  {
   "cell_type": "code",
   "execution_count": 1,
   "metadata": {},
   "outputs": [],
   "source": [
    "import numpy as np\n",
    "import numpy.linalg as la\n",
    "import graph\n",
    "import helper_function as hf\n",
    "import matplotlib.pyplot as plt"
   ]
  },
  {
   "cell_type": "markdown",
   "metadata": {},
   "source": [
    "# The Gambler's Ruin and Reducibility"
   ]
  },
  {
   "cell_type": "markdown",
   "metadata": {},
   "source": [
    "Consider a gambler starting with some amount of money, say $\\$1$.\n",
    "\n",
    "The gambler is playing a game where they could either win $\\$1$ or lose $\\$1$ with equal probability.  The goal is to win $\\$3$ before losing all of his money, in which case they lose the game as well."
   ]
  },
  {
   "cell_type": "markdown",
   "metadata": {},
   "source": [
    "We can represent this as a state graph (see below).  If we start at the $\\$1$ state, we have a $50\\%$ chance of losing money (and the game) &mdash; the \"$\\$0$ (Lose)\" state &mdash; and a $50\\%$ chance of winning a dollar &mdash; the \"$\\$2$\" state."
   ]
  },
  {
   "cell_type": "markdown",
   "metadata": {},
   "source": [
    "<img src=\"Gambler.svg\"></img>"
   ]
  },
  {
   "cell_type": "markdown",
   "metadata": {},
   "source": [
    "**Check your answers!**\n",
    "\n",
    "Create the Markov matrix, denoted `G`, that follows the state diagram above."
   ]
  },
  {
   "cell_type": "code",
   "execution_count": 2,
   "metadata": {},
   "outputs": [],
   "source": [
    "#grade_clear\n",
    "G = np.array([[1, 0.5,   0, 0],\n",
    "              [0,   0, 0.5, 0],\n",
    "              [0, 0.5,   0, 0],\n",
    "              [0,   0, 0.5, 1]])"
   ]
  },
  {
   "cell_type": "markdown",
   "metadata": {},
   "source": [
    "You can display your matrix as a graph to check your work."
   ]
  },
  {
   "cell_type": "code",
   "execution_count": 3,
   "metadata": {},
   "outputs": [
    {
     "data": {
      "image/svg+xml": [
       "<svg xmlns=\"http://www.w3.org/2000/svg\" xmlns:xlink=\"http://www.w3.org/1999/xlink\" width=\"226pt\" height=\"218pt\" viewBox=\"0.00 0.00 226.14 218.00\">\n",
       "<g id=\"graph0\" class=\"graph\" transform=\"scale(1 1) rotate(0) translate(4 214)\">\n",
       "<polygon fill=\"#ffffff\" stroke=\"transparent\" points=\"-4,4 -4,-214 222.1405,-214 222.1405,4 -4,4\"/>\n",
       "<!-- Lose -->\n",
       "<g id=\"node1\" class=\"node\">\n",
       "<title>Lose</title>\n",
       "<ellipse fill=\"none\" stroke=\"#000000\" cx=\"28.5975\" cy=\"-105\" rx=\"28.6953\" ry=\"18\"/>\n",
       "<text text-anchor=\"middle\" x=\"28.5975\" y=\"-101.3\" font-family=\"Times,serif\" font-size=\"14.00\" fill=\"#000000\">Lose</text>\n",
       "</g>\n",
       "<!-- Lose&#45;&gt;Lose -->\n",
       "<g id=\"edge1\" class=\"edge\">\n",
       "<title>Lose-&gt;Lose</title>\n",
       "<path fill=\"none\" stroke=\"#000000\" d=\"M54.4735,-112.78C65.6375,-113.42 75.1955,-110.82 75.1955,-105 75.1955,-101.09 70.8805,-98.632 64.6635,-97.636\"/>\n",
       "<polygon fill=\"#000000\" stroke=\"#000000\" points=\"64.6082,-94.1309 54.4735,-97.219 64.322,-101.125 64.6082,-94.1309\"/>\n",
       "<text text-anchor=\"middle\" x=\"84.1955\" y=\"-101.3\" font-family=\"Times,serif\" font-size=\"14.00\" fill=\"#000000\">1.0</text>\n",
       "</g>\n",
       "<!-- $1 -->\n",
       "<g id=\"node2\" class=\"node\">\n",
       "<title>$1</title>\n",
       "<ellipse fill=\"none\" stroke=\"#000000\" cx=\"97.5975\" cy=\"-192\" rx=\"27\" ry=\"18\"/>\n",
       "<text text-anchor=\"middle\" x=\"97.5975\" y=\"-188.3\" font-family=\"Times,serif\" font-size=\"14.00\" fill=\"#000000\">$1</text>\n",
       "</g>\n",
       "<!-- $1&#45;&gt;Lose -->\n",
       "<g id=\"edge2\" class=\"edge\">\n",
       "<title>$1-&gt;Lose</title>\n",
       "<path fill=\"none\" stroke=\"#000000\" d=\"M84.9425,-176.04C74.5035,-162.88 59.5315,-144 47.6455,-129.02\"/>\n",
       "<polygon fill=\"#000000\" stroke=\"#000000\" points=\"50.3621,-126.8127 41.4075,-121.15 44.8763,-131.1609 50.3621,-126.8127\"/>\n",
       "<text text-anchor=\"middle\" x=\"76.5975\" y=\"-144.8\" font-family=\"Times,serif\" font-size=\"14.00\" fill=\"#000000\">0.5</text>\n",
       "</g>\n",
       "<!-- $2 -->\n",
       "<g id=\"node3\" class=\"node\">\n",
       "<title>$2</title>\n",
       "<ellipse fill=\"none\" stroke=\"#000000\" cx=\"138.6005\" cy=\"-105\" rx=\"27\" ry=\"18\"/>\n",
       "<text text-anchor=\"middle\" x=\"138.6005\" y=\"-101.3\" font-family=\"Times,serif\" font-size=\"14.00\" fill=\"#000000\">$2</text>\n",
       "</g>\n",
       "<!-- $1&#45;&gt;$2 -->\n",
       "<g id=\"edge3\" class=\"edge\">\n",
       "<title>$1-&gt;$2</title>\n",
       "<path fill=\"none\" stroke=\"#000000\" d=\"M94.5205,-173.75C93.6435,-163.66 93.9585,-151.15 98.5975,-141 101.4005,-134.87 105.8005,-129.33 110.6805,-124.54\"/>\n",
       "<polygon fill=\"#000000\" stroke=\"#000000\" points=\"113.3446,-126.8607 118.5805,-117.65 108.7435,-121.5852 113.3446,-126.8607\"/>\n",
       "<text text-anchor=\"middle\" x=\"107.6005\" y=\"-144.8\" font-family=\"Times,serif\" font-size=\"14.00\" fill=\"#000000\">0.5</text>\n",
       "</g>\n",
       "<!-- $2&#45;&gt;$1 -->\n",
       "<g id=\"edge4\" class=\"edge\">\n",
       "<title>$2-&gt;$1</title>\n",
       "<path fill=\"none\" stroke=\"#000000\" d=\"M131.4005,-122.62C127.2505,-132.51 121.8405,-145.04 116.6005,-156 115.0605,-159.22 113.3805,-162.57 111.6905,-165.88\"/>\n",
       "<polygon fill=\"#000000\" stroke=\"#000000\" points=\"108.4906,-164.4462 106.9605,-174.93 114.6944,-167.6887 108.4906,-164.4462\"/>\n",
       "<text text-anchor=\"middle\" x=\"132.6005\" y=\"-144.8\" font-family=\"Times,serif\" font-size=\"14.00\" fill=\"#000000\">0.5</text>\n",
       "</g>\n",
       "<!-- $3 (Win) -->\n",
       "<g id=\"node4\" class=\"node\">\n",
       "<title>$3 (Win)</title>\n",
       "<ellipse fill=\"none\" stroke=\"#000000\" cx=\"138.6005\" cy=\"-18\" rx=\"43.5923\" ry=\"18\"/>\n",
       "<text text-anchor=\"middle\" x=\"138.6005\" y=\"-14.3\" font-family=\"Times,serif\" font-size=\"14.00\" fill=\"#000000\">$3 (Win)</text>\n",
       "</g>\n",
       "<!-- $2&#45;&gt;$3 (Win) -->\n",
       "<g id=\"edge5\" class=\"edge\">\n",
       "<title>$2-&gt;$3 (Win)</title>\n",
       "<path fill=\"none\" stroke=\"#000000\" d=\"M138.6005,-86.974C138.6005,-75.192 138.6005,-59.561 138.6005,-46.158\"/>\n",
       "<polygon fill=\"#000000\" stroke=\"#000000\" points=\"142.1006,-46.003 138.6005,-36.003 135.1006,-46.003 142.1006,-46.003\"/>\n",
       "<text text-anchor=\"middle\" x=\"147.6005\" y=\"-57.8\" font-family=\"Times,serif\" font-size=\"14.00\" fill=\"#000000\">0.5</text>\n",
       "</g>\n",
       "<!-- $3 (Win)&#45;&gt;$3 (Win) -->\n",
       "<g id=\"edge6\" class=\"edge\">\n",
       "<title>$3 (Win)-&gt;$3 (Win)</title>\n",
       "<path fill=\"none\" stroke=\"#000000\" d=\"M177.9605,-25.871C190.3605,-25.751 200.1405,-23.127 200.1405,-18 200.1405,-14.395 195.3105,-12.028 188.1305,-10.898\"/>\n",
       "<polygon fill=\"#000000\" stroke=\"#000000\" points=\"188.1959,-7.393 177.9605,-10.129 187.6681,-14.3731 188.1959,-7.393\"/>\n",
       "<text text-anchor=\"middle\" x=\"209.1405\" y=\"-14.3\" font-family=\"Times,serif\" font-size=\"14.00\" fill=\"#000000\">1.0</text>\n",
       "</g>\n",
       "</g>\n",
       "</svg>"
      ],
      "text/plain": [
       "<IPython.core.display.SVG object>"
      ]
     },
     "metadata": {},
     "output_type": "display_data"
    }
   ],
   "source": [
    "labels = ['Lose', '$1', '$2', '$3 (Win)']\n",
    "graph.draw_matrix(G, labels)"
   ]
  },
  {
   "cell_type": "markdown",
   "metadata": {},
   "source": [
    "Suppose the gambler starts with $\\$1$ ($100\\%$ probability of being in the $\\$1$ state). Write the initial state as the array `x0`:"
   ]
  },
  {
   "cell_type": "code",
   "execution_count": 4,
   "metadata": {},
   "outputs": [],
   "source": [
    "x0 = np.array([0.0, 1.0, 0.0, 0.0])"
   ]
  },
  {
   "cell_type": "markdown",
   "metadata": {},
   "source": [
    "We will use the function `power_iteration` that you defined previously (and now available to you as a helper function) to get the probability of losing and winning using the initial state defined as `x0` and store your result in `xstar1`"
   ]
  },
  {
   "cell_type": "code",
   "execution_count": 5,
   "metadata": {},
   "outputs": [
    {
     "name": "stdout",
     "output_type": "stream",
     "text": [
      "[66.67  0.    0.   33.33]\n"
     ]
    }
   ],
   "source": [
    "# define xstar1\n",
    "#clear\n",
    "xstar1 = hf.power_iteration(G,x0)\n",
    "#clear\n",
    "\n",
    "# Print out the probability\n",
    "print(np.round(xstar1 * 100,2))"
   ]
  },
  {
   "cell_type": "markdown",
   "metadata": {},
   "source": [
    "**Check your answers!**\n",
    "\n",
    "Now use power iteration to get the probability of winning and losing if the gambler starts with $\\$2$ instead. Store your result in `xstar2`."
   ]
  },
  {
   "cell_type": "code",
   "execution_count": 6,
   "metadata": {},
   "outputs": [],
   "source": [
    "#grade_clear\n",
    "xstar2 = hf.power_iteration(G, np.array([0.0, 0.0, 1.0, 0.0]))"
   ]
  },
  {
   "cell_type": "markdown",
   "metadata": {},
   "source": [
    "Print out `xstar2`. Is this result different from `xstar1`?"
   ]
  },
  {
   "cell_type": "code",
   "execution_count": 7,
   "metadata": {},
   "outputs": [
    {
     "name": "stdout",
     "output_type": "stream",
     "text": [
      "[33.33  0.    0.   66.67]\n"
     ]
    }
   ],
   "source": [
    "print(np.round(xstar2 * 100, 2))"
   ]
  },
  {
   "cell_type": "markdown",
   "metadata": {},
   "source": [
    "Because we can no longer reach every state from every other state, **we no longer have a unique steady state**.  A Markov chain of this type is said to be \"reducible\".\n",
    "\n",
    "The code snippet below runs power iteration for a random initial state vector. Run it many times, and see what happens to the resulting vector:"
   ]
  },
  {
   "cell_type": "code",
   "execution_count": 8,
   "metadata": {},
   "outputs": [
    {
     "name": "stdout",
     "output_type": "stream",
     "text": [
      "[0.59 0.   0.   0.41]\n"
     ]
    }
   ],
   "source": [
    "x = np.random.rand(4)\n",
    "x = x / la.norm(x,1)\n",
    "print(np.round(hf.power_iteration(G, x),2))"
   ]
  },
  {
   "cell_type": "markdown",
   "metadata": {},
   "source": [
    "We can no longer observe the behavior in which the steady state vector is the same, no matter the given initial vector.\n"
   ]
  }
 ],
 "metadata": {
  "kernelspec": {
   "display_name": "Python 3",
   "language": "python",
   "name": "python3"
  },
  "language_info": {
   "codemirror_mode": {
    "name": "ipython",
    "version": 3
   },
   "file_extension": ".py",
   "mimetype": "text/x-python",
   "name": "python",
   "nbconvert_exporter": "python",
   "pygments_lexer": "ipython3",
   "version": "3.8.0"
  }
 },
 "nbformat": 4,
 "nbformat_minor": 4
}
