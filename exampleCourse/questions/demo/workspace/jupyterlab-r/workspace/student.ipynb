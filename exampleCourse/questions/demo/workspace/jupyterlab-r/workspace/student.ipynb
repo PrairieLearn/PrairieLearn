{
 "cells": [
  {
   "cell_type": "markdown",
   "id": "7a8fe3de-ed75-4aea-a92f-09ee9c357c91",
   "metadata": {},
   "source": [
    "# Compound R Object\n",
    "\n",
    "Please create a single R object named <code>x</code> containing the following:\n",
    "\n",
    "- an integer <code>ii</code> with value 42\n",
    "- a numeric <code>nn</code> with value 3.1415\n",
    "- a text variable <code>cc</code> with text `hello, world!` including the comma and exclamation mark\n",
    "\n",
    "**Note:** solution provided for `file-upload`"
   ]
  },
  {
   "cell_type": "code",
   "execution_count": null,
   "id": "47b51bcf-e7e0-480b-aea6-5425d5c54eab",
   "metadata": {
    "vscode": {
     "languageId": "r"
    }
   },
   "outputs": [],
   "source": [
    "#grade (write your code in this cell and DO NOT DELETE THIS LINE)\n",
    "\n",
    "x <- ..."
   ]
  },
  {
   "cell_type": "markdown",
   "id": "c2764727",
   "metadata": {},
   "source": [
    "The autograder will search for the cell that starts with a configurable keyword (in this example we are using the default of `#grade`), and only use the contents from this cell for grading. This keyword is configurable inside of the `info.json` using the test suite's `IPYNB_KEY` environment variable.\n",
    "\n",
    "This will avoid the autograder trying to execute additional lines of code that include several print statements, plots, and use of libraries that are not installed in PL."
   ]
  }
 ],
 "metadata": {
  "kernelspec": {
   "display_name": "R",
   "language": "R",
   "name": "ir"
  },
  "language_info": {
   "codemirror_mode": "r",
   "file_extension": ".r",
   "mimetype": "text/x-r-source",
   "name": "R",
   "pygments_lexer": "r",
   "version": "4.3.3"
  }
 },
 "nbformat": 4,
 "nbformat_minor": 5
}
