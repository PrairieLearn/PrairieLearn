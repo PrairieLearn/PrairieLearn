{
 "cells": [
  {
   "cell_type": "markdown",
   "id": "7a8fe3de-ed75-4aea-a92f-09ee9c357c91",
   "metadata": {},
   "source": [
    "# R Notebook\n",
    "\n",
    "Do not delete the line #R\n",
    "\n",
    "Solution is already provided for testing"
   ]
  },
  {
   "cell_type": "code",
   "execution_count": null,
   "id": "47b51bcf-e7e0-480b-aea6-5425d5c54eab",
   "metadata": {
    "vscode": {
     "languageId": "r"
    }
   },
   "outputs": [],
   "source": [
    "#R\n",
    "\n",
    "x <- data.frame(ii = 42L,\n",
    "                nn = 3.1415,\n",
    "                cc = \"hello, world!\")"
   ]
  }
 ],
 "metadata": {
  "kernelspec": {
   "display_name": "R",
   "language": "R",
   "name": "ir"
  },
  "language_info": {
   "codemirror_mode": "r",
   "file_extension": ".r",
   "mimetype": "text/x-r-source",
   "name": "R",
   "pygments_lexer": "r",
   "version": "4.3.3"
  }
 },
 "nbformat": 4,
 "nbformat_minor": 5
}
