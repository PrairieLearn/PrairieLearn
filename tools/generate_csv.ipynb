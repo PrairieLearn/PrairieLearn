{
 "cells": [
  {
   "cell_type": "code",
   "execution_count": 1,
   "id": "499f1ab5-def5-43be-8a5f-7e16c439acb4",
   "metadata": {},
   "outputs": [],
   "source": [
    "import pathlib\n",
    "import glob\n",
    "import pandas as pd\n",
    "import os"
   ]
  },
  {
   "cell_type": "code",
   "execution_count": 2,
   "id": "06d1c342-79fe-4aed-968e-fc2644cd2d96",
   "metadata": {},
   "outputs": [],
   "source": [
    "gpath = 'https://github.com/PrairieLearn/PrairieLearn/tree/master/tools/'"
   ]
  },
  {
   "cell_type": "code",
   "execution_count": 3,
   "id": "75ab35d7-32ac-4feb-a23e-c2be34c473b6",
   "metadata": {},
   "outputs": [],
   "source": [
    "# Create an entry in the Table for the script\n",
    "\n",
    "path = pathlib.Path(\"./\")\n",
    "records = []\n",
    "cols = ['Script','Category','Description','Contributed By','Old Link']\n",
    "                     \n",
    "for p in sorted(path.rglob(\"*\")):\n",
    "    records.append([f\"[{ p.name }]()\",'Category','Description','[@GitHubUsername](https://github.com/username)',f\"[Link]({gpath+p.name})\"])\n",
    "    \n",
    "## Create a dataframe from the records\n",
    "df = pd.DataFrame(records,columns=cols)\n",
    "\n",
    "## Export dataframe to a file\n",
    "df.to_markdown('README_old.md', index=None)"
   ]
  },
  {
   "cell_type": "code",
   "execution_count": 72,
   "id": "bcbe5084-763d-4a62-84a4-17f899f57f87",
   "metadata": {},
   "outputs": [],
   "source": [
    "# Move the script into a new location"
   ]
  },
  {
   "cell_type": "code",
   "execution_count": 73,
   "id": "2f30e989-6386-4cd9-86d7-cb0c13d827e6",
   "metadata": {},
   "outputs": [],
   "source": []
  },
  {
   "cell_type": "code",
   "execution_count": null,
   "id": "d74fa8e1-e6bd-4200-a6fe-164fa949489c",
   "metadata": {},
   "outputs": [],
   "source": []
  }
 ],
 "metadata": {
  "kernelspec": {
   "display_name": "Python 3 (ipykernel)",
   "language": "python",
   "name": "python3"
  },
  "language_info": {
   "codemirror_mode": {
    "name": "ipython",
    "version": 3
   },
   "file_extension": ".py",
   "mimetype": "text/x-python",
   "name": "python",
   "nbconvert_exporter": "python",
   "pygments_lexer": "ipython3",
   "version": "3.9.7"
  }
 },
 "nbformat": 4,
 "nbformat_minor": 5
}
